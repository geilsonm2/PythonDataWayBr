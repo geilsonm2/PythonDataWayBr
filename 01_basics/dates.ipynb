{
 "cells": [
  {
   "cell_type": "code",
   "execution_count": 2,
   "id": "399f5e1b-2895-4624-b9eb-7582f12c387f",
   "metadata": {},
   "outputs": [],
   "source": [
    "import datetime"
   ]
  },
  {
   "cell_type": "code",
   "execution_count": 18,
   "id": "9c49d696-f354-43e1-a645-fdaaa891d1d1",
   "metadata": {},
   "outputs": [],
   "source": [
    "# date - Pegando Ano, Mes e Dia\n",
    "data = datetime.date(2024,10,12)"
   ]
  },
  {
   "cell_type": "code",
   "execution_count": 11,
   "id": "9a6836be-ff46-45af-908f-87b13ea08ed4",
   "metadata": {},
   "outputs": [
    {
     "data": {
      "text/plain": [
       "datetime.date(2024, 10, 12)"
      ]
     },
     "execution_count": 11,
     "metadata": {},
     "output_type": "execute_result"
    }
   ],
   "source": [
    "data"
   ]
  },
  {
   "cell_type": "code",
   "execution_count": 19,
   "id": "4c959f44-08c2-4834-9a5e-9d9747402447",
   "metadata": {},
   "outputs": [],
   "source": [
    "# date - Pegando Ano, Mes, Dia e Horas\n",
    "datahora = datetime.datetime(2024,10,12,13,30,45)"
   ]
  },
  {
   "cell_type": "code",
   "execution_count": 17,
   "id": "0a519638-7ed8-416b-b24e-aac3901d5fb0",
   "metadata": {},
   "outputs": [
    {
     "data": {
      "text/plain": [
       "datetime.datetime(2024, 10, 12, 13, 30, 45)"
      ]
     },
     "execution_count": 17,
     "metadata": {},
     "output_type": "execute_result"
    }
   ],
   "source": [
    "datahora"
   ]
  },
  {
   "cell_type": "code",
   "execution_count": 24,
   "id": "78c885b3-b181-453d-b30c-3ebc1f3fb7fc",
   "metadata": {},
   "outputs": [],
   "source": [
    "# today - Pegando data atual, utilizando a funcao today\n",
    "data_atual = datetime.date.today()"
   ]
  },
  {
   "cell_type": "code",
   "execution_count": 25,
   "id": "5d692027-4102-498e-8934-aa0f3c678d34",
   "metadata": {},
   "outputs": [
    {
     "data": {
      "text/plain": [
       "datetime.date(2024, 4, 3)"
      ]
     },
     "execution_count": 25,
     "metadata": {},
     "output_type": "execute_result"
    }
   ],
   "source": [
    "data_atual"
   ]
  },
  {
   "cell_type": "code",
   "execution_count": 27,
   "id": "fb5ee2f9-30fc-42c3-bb1d-3f10b6ece1f2",
   "metadata": {},
   "outputs": [],
   "source": [
    "agora = datetime.datetime.now()"
   ]
  },
  {
   "cell_type": "code",
   "execution_count": 28,
   "id": "f0716ed8-1222-4fbd-920d-aee3377f9da3",
   "metadata": {},
   "outputs": [
    {
     "data": {
      "text/plain": [
       "datetime.datetime(2024, 4, 3, 1, 49, 56, 392909)"
      ]
     },
     "execution_count": 28,
     "metadata": {},
     "output_type": "execute_result"
    }
   ],
   "source": [
    "agora"
   ]
  },
  {
   "cell_type": "code",
   "execution_count": 43,
   "id": "887381a8-72d4-4ae0-860a-20962d72880f",
   "metadata": {},
   "outputs": [],
   "source": [
    "# Criando uma frase pegando a hora atual\n",
    "frase_formatada = f\"Agora são: {agora}\""
   ]
  },
  {
   "cell_type": "code",
   "execution_count": 36,
   "id": "32fddd96-3c69-489e-b784-bfa9d1ca70ac",
   "metadata": {},
   "outputs": [
    {
     "data": {
      "text/plain": [
       "'Agora são: 2024-04-03 01:49:56.392909'"
      ]
     },
     "execution_count": 36,
     "metadata": {},
     "output_type": "execute_result"
    }
   ],
   "source": [
    "frase"
   ]
  },
  {
   "cell_type": "code",
   "execution_count": 52,
   "id": "be863580-ffda-4377-b0e8-f15e872e7895",
   "metadata": {},
   "outputs": [],
   "source": [
    "# Formatando data e hora como string\n",
    "agora_formatada = agora.strftime('%d/%m/%Y')\n"
   ]
  },
  {
   "cell_type": "code",
   "execution_count": 53,
   "id": "632fc56d-28b1-4d75-abe3-8479a4d029b8",
   "metadata": {},
   "outputs": [
    {
     "data": {
      "text/plain": [
       "'03/04/2024'"
      ]
     },
     "execution_count": 53,
     "metadata": {},
     "output_type": "execute_result"
    }
   ],
   "source": [
    "agora_formatada"
   ]
  },
  {
   "cell_type": "code",
   "execution_count": 54,
   "id": "6f220ceb-49db-41c4-bb47-94e7320aeb3f",
   "metadata": {},
   "outputs": [],
   "source": [
    "frase_formatada = f\"Hoje é: {agora_formatada}\""
   ]
  },
  {
   "cell_type": "code",
   "execution_count": 55,
   "id": "e44eeb74-cc35-4f90-8902-1a84200fe2a7",
   "metadata": {},
   "outputs": [
    {
     "data": {
      "text/plain": [
       "'Hoje é: 03/04/2024'"
      ]
     },
     "execution_count": 55,
     "metadata": {},
     "output_type": "execute_result"
    }
   ],
   "source": [
    "frase_formatada"
   ]
  },
  {
   "cell_type": "code",
   "execution_count": 61,
   "id": "6c7cce39-9f67-4bbb-b185-bf7cfbee34f4",
   "metadata": {},
   "outputs": [
    {
     "data": {
      "text/plain": [
       "'03/04/2024'"
      ]
     },
     "execution_count": 61,
     "metadata": {},
     "output_type": "execute_result"
    }
   ],
   "source": [
    "agora_formatada"
   ]
  },
  {
   "cell_type": "code",
   "execution_count": 64,
   "id": "bd8a196e-8154-49d9-a2dc-2fb5ae253447",
   "metadata": {},
   "outputs": [
    {
     "data": {
      "text/plain": [
       "str"
      ]
     },
     "execution_count": 64,
     "metadata": {},
     "output_type": "execute_result"
    }
   ],
   "source": [
    "type(agora_formatada)"
   ]
  },
  {
   "cell_type": "code",
   "execution_count": 59,
   "id": "50a6f0b5-8e02-4b2d-9dc0-3910b42ef4e3",
   "metadata": {},
   "outputs": [],
   "source": [
    "#Importando a função strptime, para transformar uma string no tipo date\n",
    "from datetime import datetime as dt\n",
    "agora_formatada_date = dt.strptime(agora_formatada, \"%d/%m/%Y\")"
   ]
  },
  {
   "cell_type": "code",
   "execution_count": 60,
   "id": "5b8ac943-9865-49c4-b18a-5230e8aa0bd8",
   "metadata": {},
   "outputs": [
    {
     "data": {
      "text/plain": [
       "datetime.datetime(2024, 4, 3, 0, 0)"
      ]
     },
     "execution_count": 60,
     "metadata": {},
     "output_type": "execute_result"
    }
   ],
   "source": [
    "agora_formatada_date"
   ]
  },
  {
   "cell_type": "code",
   "execution_count": 65,
   "id": "58bef8e0-56db-41db-99a7-7d70deb6699b",
   "metadata": {},
   "outputs": [
    {
     "data": {
      "text/plain": [
       "datetime.datetime(2024, 4, 3, 1, 49, 56, 392909)"
      ]
     },
     "execution_count": 65,
     "metadata": {},
     "output_type": "execute_result"
    }
   ],
   "source": [
    "agora"
   ]
  },
  {
   "cell_type": "code",
   "execution_count": 70,
   "id": "fbab21e7-1f50-4f6c-a920-dbd9497b024c",
   "metadata": {},
   "outputs": [],
   "source": [
    "# Como subtrair ou somar datas, (delta passando uma diferença de tempo) \n",
    "agora_mais_sete = agora + datetime.timedelta(days=7)"
   ]
  },
  {
   "cell_type": "code",
   "execution_count": 71,
   "id": "e50aabc3-49fb-44dc-b173-f6296f9e36cb",
   "metadata": {},
   "outputs": [
    {
     "data": {
      "text/plain": [
       "datetime.datetime(2024, 4, 10, 1, 49, 56, 392909)"
      ]
     },
     "execution_count": 71,
     "metadata": {},
     "output_type": "execute_result"
    }
   ],
   "source": [
    "agora_mais_sete"
   ]
  },
  {
   "cell_type": "code",
   "execution_count": 81,
   "id": "13048ade-f693-47c1-8c4d-135e0e076eb2",
   "metadata": {},
   "outputs": [],
   "source": [
    "# Adicionando 1h a mais\n",
    "agora_mais_uma_hora = agora + datetime.timedelta(hours=1)"
   ]
  },
  {
   "cell_type": "code",
   "execution_count": 74,
   "id": "42ba6697-d2e4-4362-bdea-157da198ba9e",
   "metadata": {},
   "outputs": [
    {
     "data": {
      "text/plain": [
       "datetime.datetime(2024, 4, 3, 2, 49, 56, 392909)"
      ]
     },
     "execution_count": 74,
     "metadata": {},
     "output_type": "execute_result"
    }
   ],
   "source": [
    "agora_mais_uma_hora"
   ]
  },
  {
   "cell_type": "code",
   "execution_count": 82,
   "id": "bcd7ee24-c84a-46c1-991a-2548dd41324c",
   "metadata": {},
   "outputs": [
    {
     "name": "stdout",
     "output_type": "stream",
     "text": [
      "True\n"
     ]
    }
   ],
   "source": [
    "# Comparando os valores \n",
    "print(agora_mais_uma_hora < agora_mais_sete)"
   ]
  },
  {
   "cell_type": "code",
   "execution_count": 80,
   "id": "555adf8e-5fec-4080-a648-72e0cec9ec6e",
   "metadata": {},
   "outputs": [
    {
     "name": "stdout",
     "output_type": "stream",
     "text": [
      "False\n"
     ]
    }
   ],
   "source": [
    "print(agora_mais_uma_hora == agora_mais_sete)"
   ]
  }
 ],
 "metadata": {
  "kernelspec": {
   "display_name": "Python 3 (ipykernel)",
   "language": "python",
   "name": "python3"
  },
  "language_info": {
   "codemirror_mode": {
    "name": "ipython",
    "version": 3
   },
   "file_extension": ".py",
   "mimetype": "text/x-python",
   "name": "python",
   "nbconvert_exporter": "python",
   "pygments_lexer": "ipython3",
   "version": "3.11.6"
  }
 },
 "nbformat": 4,
 "nbformat_minor": 5
}
