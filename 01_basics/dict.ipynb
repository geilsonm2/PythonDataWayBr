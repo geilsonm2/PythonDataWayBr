{
 "cells": [
  {
   "cell_type": "code",
   "execution_count": 1,
   "id": "c25ba61e-da96-493e-88bc-562ea60dd54a",
   "metadata": {},
   "outputs": [],
   "source": [
    "# Dict Comprehension"
   ]
  },
  {
   "cell_type": "code",
   "execution_count": 30,
   "id": "86b7910f-7134-4019-9760-d21d87616b23",
   "metadata": {},
   "outputs": [],
   "source": [
    "# Dicionario {}\n",
    "piloto = {\n",
    "    'classe' : 'formula 1',\n",
    "    'nome' : 'Lewis Hamilton',\n",
    "    'nacionalidade' : 'Britânico',\n",
    "    'equipe' : 'Mercedes'\n",
    "}"
   ]
  },
  {
   "cell_type": "code",
   "execution_count": 31,
   "id": "579dc81f-8eb8-4c4b-afb1-2179c8659c92",
   "metadata": {},
   "outputs": [],
   "source": [
    "piloto_valor_upper = {}"
   ]
  },
  {
   "cell_type": "code",
   "execution_count": 32,
   "id": "485dc325-0c3a-4aef-b5a4-c65f0609ba8a",
   "metadata": {},
   "outputs": [],
   "source": [
    "# Verificando cada chave e valor dentro do dicionario Piloto utilizando .items()\n",
    "# Depois atribuindo na lista vazia piloto_valor_upper, os mesmos valores, porém, com a chave minuscula como escrita anteriormente e o valor todo em maiusculo \n",
    "for chave, valor in piloto.items():\n",
    "    piloto_valor_upper[chave] = valor.upper()"
   ]
  },
  {
   "cell_type": "code",
   "execution_count": 37,
   "id": "cf73d60d-b94f-4f3b-baad-b339534e8c49",
   "metadata": {},
   "outputs": [
    {
     "data": {
      "text/plain": [
       "{'classe': 'FORMULA 1',\n",
       " 'nome': 'LEWIS HAMILTON',\n",
       " 'nacionalidade': 'BRITÂNICO',\n",
       " 'equipe': 'MERCEDES'}"
      ]
     },
     "execution_count": 37,
     "metadata": {},
     "output_type": "execute_result"
    }
   ],
   "source": [
    "piloto_valor_upper"
   ]
  },
  {
   "cell_type": "code",
   "execution_count": 38,
   "id": "640c039f-6a07-4ef7-97e3-d7ce10493397",
   "metadata": {},
   "outputs": [],
   "source": [
    "piloto_valor_full_upper = {}"
   ]
  },
  {
   "cell_type": "code",
   "execution_count": 39,
   "id": "8c5649ed-f5a1-4e46-bf18-57d52eab2d42",
   "metadata": {},
   "outputs": [],
   "source": [
    "# Realizando a mesma função de cima, porém, deixando tanto a chave quanto o valor em maiusculo \n",
    "for chave, valor in piloto.items():\n",
    "    piloto_valor_full_upper[chave.upper()] = valor.upper()"
   ]
  },
  {
   "cell_type": "code",
   "execution_count": 40,
   "id": "fbe98ef1-f41b-4074-b01f-3d0b6cf0ed3f",
   "metadata": {},
   "outputs": [
    {
     "data": {
      "text/plain": [
       "{'CLASSE': 'FORMULA 1',\n",
       " 'NOME': 'LEWIS HAMILTON',\n",
       " 'NACIONALIDADE': 'BRITÂNICO',\n",
       " 'EQUIPE': 'MERCEDES'}"
      ]
     },
     "execution_count": 40,
     "metadata": {},
     "output_type": "execute_result"
    }
   ],
   "source": [
    "piloto_valor_full_upper"
   ]
  },
  {
   "cell_type": "code",
   "execution_count": 41,
   "id": "cc94ffef-a435-4157-86ae-0e4deb37a91d",
   "metadata": {},
   "outputs": [],
   "source": [
    "piloto_valor_upper_comprehension = {chave: valor.upper() for chave, valor in piloto.items()}"
   ]
  },
  {
   "cell_type": "code",
   "execution_count": 42,
   "id": "90ed5ec8-3a76-4a20-af74-cef4b6150ed0",
   "metadata": {},
   "outputs": [
    {
     "data": {
      "text/plain": [
       "{'classe': 'FORMULA 1',\n",
       " 'nome': 'LEWIS HAMILTON',\n",
       " 'nacionalidade': 'BRITÂNICO',\n",
       " 'equipe': 'MERCEDES'}"
      ]
     },
     "execution_count": 42,
     "metadata": {},
     "output_type": "execute_result"
    }
   ],
   "source": [
    "piloto_valor_upper_comprehension"
   ]
  }
 ],
 "metadata": {
  "kernelspec": {
   "display_name": "Python 3 (ipykernel)",
   "language": "python",
   "name": "python3"
  },
  "language_info": {
   "codemirror_mode": {
    "name": "ipython",
    "version": 3
   },
   "file_extension": ".py",
   "mimetype": "text/x-python",
   "name": "python",
   "nbconvert_exporter": "python",
   "pygments_lexer": "ipython3",
   "version": "3.11.6"
  }
 },
 "nbformat": 4,
 "nbformat_minor": 5
}
