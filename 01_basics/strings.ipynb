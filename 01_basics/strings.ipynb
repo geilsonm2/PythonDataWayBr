{
 "cells": [
  {
   "cell_type": "code",
   "execution_count": 2,
   "id": "a14fad8e-5d0e-41c0-b692-d9217828f9a9",
   "metadata": {},
   "outputs": [],
   "source": [
    "nome = 'Bob'"
   ]
  },
  {
   "cell_type": "code",
   "execution_count": 4,
   "id": "40905ae5-dcf6-4bc3-88f9-01a55519538a",
   "metadata": {},
   "outputs": [],
   "source": [
    "idade = 20"
   ]
  },
  {
   "cell_type": "code",
   "execution_count": 88,
   "id": "6a29758a-82e0-4ddf-8c29-7d804acfc179",
   "metadata": {},
   "outputs": [],
   "source": [
    "# format - Passando variaveis como parametro após a string \n",
    "frase_format = \"Olá, meu nome é: {} e eu tenho {} anos.\".format(nome,idade)"
   ]
  },
  {
   "cell_type": "code",
   "execution_count": 27,
   "id": "f9f19f1d-46df-4d72-a788-1eb626300df3",
   "metadata": {},
   "outputs": [
    {
     "data": {
      "text/plain": [
       "'Olá, meu nome é: Bob e eu tenho 20 anos.'"
      ]
     },
     "execution_count": 27,
     "metadata": {},
     "output_type": "execute_result"
    }
   ],
   "source": [
    "frase_format"
   ]
  },
  {
   "cell_type": "code",
   "execution_count": 62,
   "id": "441e9fd1-dae3-4321-bcf0-ebb04ffa7b3a",
   "metadata": {},
   "outputs": [],
   "source": [
    "# f-string - Passando variaveis como parametro dentro das chaves\n",
    "frase_f_string = f\"Olá, meu nome é:{nome}, tenho {idade} anos.\""
   ]
  },
  {
   "cell_type": "code",
   "execution_count": 31,
   "id": "2900b111-253c-49fb-b592-588f3ae1f28d",
   "metadata": {},
   "outputs": [
    {
     "data": {
      "text/plain": [
       "'Olá, meu nome é: Bob e eu tenho 20 anos.'"
      ]
     },
     "execution_count": 31,
     "metadata": {},
     "output_type": "execute_result"
    }
   ],
   "source": [
    "frase_f_string"
   ]
  },
  {
   "cell_type": "code",
   "execution_count": 87,
   "id": "22785a09-ea6d-476f-987a-01ffdb87104e",
   "metadata": {},
   "outputs": [],
   "source": [
    "# Utilizando f-string para realizar consultas sql\n",
    "sql = f\"\"\"\n",
    "    select * \n",
    "    from table_test\n",
    "    where nome = {nome}\n",
    "\"\"\""
   ]
  },
  {
   "cell_type": "code",
   "execution_count": 85,
   "id": "b9b0b5c0-b67a-47a8-ad04-5bb6d5caa9de",
   "metadata": {},
   "outputs": [
    {
     "data": {
      "text/plain": [
       "'\\n    select * \\n    from table_test\\n    where nome = Bob\\n'"
      ]
     },
     "execution_count": 85,
     "metadata": {},
     "output_type": "execute_result"
    }
   ],
   "source": [
    "sql"
   ]
  },
  {
   "cell_type": "code",
   "execution_count": 47,
   "id": "452932ce-da78-40e9-96a8-b727344659b3",
   "metadata": {},
   "outputs": [],
   "source": [
    "# Upper - Deixando a palavra ou frase em maisculo\n",
    "frase_upper = frase_f_string.upper()"
   ]
  },
  {
   "cell_type": "code",
   "execution_count": 48,
   "id": "1e24c28c-4965-4e03-8fa3-93a91c5697b8",
   "metadata": {},
   "outputs": [
    {
     "data": {
      "text/plain": [
       "'OLÁ, MEU NOME É: BOB E EU TENHO 20 ANOS.'"
      ]
     },
     "execution_count": 48,
     "metadata": {},
     "output_type": "execute_result"
    }
   ],
   "source": [
    "frase_upper"
   ]
  },
  {
   "cell_type": "code",
   "execution_count": 86,
   "id": "56f5f480-dc35-41dc-8d54-0d678b434753",
   "metadata": {},
   "outputs": [],
   "source": [
    "# Lower - Deixando a palavra ou frase em minusculo\n",
    "frase_lower = frase_f_string.lower()"
   ]
  },
  {
   "cell_type": "code",
   "execution_count": 51,
   "id": "ca18e6ba-b333-425b-9292-f23764a7f39c",
   "metadata": {},
   "outputs": [
    {
     "data": {
      "text/plain": [
       "'olá, meu nome é: bob e eu tenho 20 anos.'"
      ]
     },
     "execution_count": 51,
     "metadata": {},
     "output_type": "execute_result"
    }
   ],
   "source": [
    "frase_lower"
   ]
  },
  {
   "cell_type": "code",
   "execution_count": 84,
   "id": "7984463d-612d-4080-8f94-307dde679a07",
   "metadata": {},
   "outputs": [],
   "source": [
    "# split - Separando por algum caractere (,)\n",
    "frase_split = frase_f_string.split(',')"
   ]
  },
  {
   "cell_type": "code",
   "execution_count": 58,
   "id": "7f8e5d5f-5d6b-45c6-89f5-bc816f144673",
   "metadata": {},
   "outputs": [
    {
     "data": {
      "text/plain": [
       "['Olá', ' meu nome é: Bob', ' tenho 20 anos.']"
      ]
     },
     "execution_count": 58,
     "metadata": {},
     "output_type": "execute_result"
    }
   ],
   "source": [
    "frase_split"
   ]
  },
  {
   "cell_type": "code",
   "execution_count": 59,
   "id": "8d0e2d94-f150-4977-b128-2d249766acd6",
   "metadata": {},
   "outputs": [],
   "source": [
    "# lenght - Para verificar o tamanho da frase ou palavra\n",
    "frase_lenght = len(frase_f_string)"
   ]
  },
  {
   "cell_type": "code",
   "execution_count": 63,
   "id": "550f356c-9e00-40e6-9426-62543de2fade",
   "metadata": {},
   "outputs": [
    {
     "data": {
      "text/plain": [
       "36"
      ]
     },
     "execution_count": 63,
     "metadata": {},
     "output_type": "execute_result"
    }
   ],
   "source": [
    "frase_lenght"
   ]
  },
  {
   "cell_type": "code",
   "execution_count": 65,
   "id": "3f32bb42-edfa-4baf-939a-875ec75a918b",
   "metadata": {},
   "outputs": [],
   "source": [
    "# join\n",
    "frase_join = \"\".join(frase_split)"
   ]
  },
  {
   "cell_type": "code",
   "execution_count": 66,
   "id": "15342e6b-0f8e-4fe2-96bb-fc2a6c936bcd",
   "metadata": {},
   "outputs": [
    {
     "data": {
      "text/plain": [
       "'Olá meu nome é: Bob tenho 20 anos.'"
      ]
     },
     "execution_count": 66,
     "metadata": {},
     "output_type": "execute_result"
    }
   ],
   "source": [
    "frase_join"
   ]
  },
  {
   "cell_type": "code",
   "execution_count": 83,
   "id": "69e767e8-8446-493b-81fb-f419ce9a2852",
   "metadata": {},
   "outputs": [],
   "source": [
    "# start ou endwith - Começa ou termina com palavra (x)\n",
    "comeca_com_ola = frase_join.startswith(\"Olá\")"
   ]
  },
  {
   "cell_type": "code",
   "execution_count": 73,
   "id": "28fe1f62-4b0d-4cc5-8389-95e53266294d",
   "metadata": {},
   "outputs": [
    {
     "data": {
      "text/plain": [
       "True"
      ]
     },
     "execution_count": 73,
     "metadata": {},
     "output_type": "execute_result"
    }
   ],
   "source": [
    "comeca_com_ola"
   ]
  },
  {
   "cell_type": "code",
   "execution_count": 81,
   "id": "f8213b88-ad16-4967-badb-d0f8f71341e1",
   "metadata": {},
   "outputs": [],
   "source": [
    "termina_com_anos = frase_join.endswith(\".\")"
   ]
  },
  {
   "cell_type": "code",
   "execution_count": 82,
   "id": "ce801ce3-07a8-48a2-b7d6-6b96bbc9ea84",
   "metadata": {},
   "outputs": [
    {
     "data": {
      "text/plain": [
       "True"
      ]
     },
     "execution_count": 82,
     "metadata": {},
     "output_type": "execute_result"
    }
   ],
   "source": [
    "termina_com_anos"
   ]
  },
  {
   "cell_type": "code",
   "execution_count": 89,
   "id": "9a2b3cda-9d0e-4261-93ff-749e12a065eb",
   "metadata": {},
   "outputs": [],
   "source": [
    "# contains - Verificar se um texto está contido dentro de outro\n",
    "contem_bob = 'Bob' in frase_f_string"
   ]
  },
  {
   "cell_type": "code",
   "execution_count": 90,
   "id": "70e97808-8358-4092-ada2-f58361f971fc",
   "metadata": {},
   "outputs": [
    {
     "data": {
      "text/plain": [
       "True"
      ]
     },
     "execution_count": 90,
     "metadata": {},
     "output_type": "execute_result"
    }
   ],
   "source": [
    "contem_bob"
   ]
  }
 ],
 "metadata": {
  "kernelspec": {
   "display_name": "Python 3 (ipykernel)",
   "language": "python",
   "name": "python3"
  },
  "language_info": {
   "codemirror_mode": {
    "name": "ipython",
    "version": 3
   },
   "file_extension": ".py",
   "mimetype": "text/x-python",
   "name": "python",
   "nbconvert_exporter": "python",
   "pygments_lexer": "ipython3",
   "version": "3.11.6"
  }
 },
 "nbformat": 4,
 "nbformat_minor": 5
}
