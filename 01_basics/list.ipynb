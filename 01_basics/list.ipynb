{
 "cells": [
  {
   "cell_type": "code",
   "execution_count": 12,
   "id": "b1be7590-fe69-46a4-baa4-63344aecb2a0",
   "metadata": {},
   "outputs": [],
   "source": [
    "# List Comprehension"
   ]
  },
  {
   "cell_type": "code",
   "execution_count": 3,
   "id": "47f1c991-3567-4f90-a7eb-5181d1f79000",
   "metadata": {},
   "outputs": [],
   "source": [
    "#Lista []\n",
    "numeros = [1,2,3,4,5,6] "
   ]
  },
  {
   "cell_type": "code",
   "execution_count": 4,
   "id": "f6342c93-ab37-4f9c-a148-feb52c444cef",
   "metadata": {},
   "outputs": [
    {
     "data": {
      "text/plain": [
       "[1, 2, 3, 4, 5, 6]"
      ]
     },
     "execution_count": 4,
     "metadata": {},
     "output_type": "execute_result"
    }
   ],
   "source": [
    "numeros"
   ]
  },
  {
   "cell_type": "code",
   "execution_count": 9,
   "id": "d2abb2ad-51db-47a5-9fec-b8e847092013",
   "metadata": {},
   "outputs": [],
   "source": [
    "numeros_ao_quadrado = []"
   ]
  },
  {
   "cell_type": "code",
   "execution_count": 10,
   "id": "88573a7e-65fb-45a4-a8e5-02c577835436",
   "metadata": {},
   "outputs": [],
   "source": [
    "# Adicionando os numeros na lista numeros_ao_quadrado\n",
    "# Onde a palavra \"numero\", corresponde a cada item na lista de \"numeros\"\n",
    "for numero in numeros:\n",
    "    numeros_ao_quadrado.append(numero ** 2)"
   ]
  },
  {
   "cell_type": "code",
   "execution_count": 11,
   "id": "15c147d6-90ae-422d-a2c2-053af64b35d6",
   "metadata": {},
   "outputs": [
    {
     "data": {
      "text/plain": [
       "[1, 4, 9, 16, 25, 36]"
      ]
     },
     "execution_count": 11,
     "metadata": {},
     "output_type": "execute_result"
    }
   ],
   "source": [
    "numeros_ao_quadrado"
   ]
  },
  {
   "cell_type": "code",
   "execution_count": 14,
   "id": "42b21390-02b1-47fe-bee3-113fb481bf8b",
   "metadata": {},
   "outputs": [],
   "source": [
    "# Realizando a mesma operação de cima com List Comprehension"
   ]
  },
  {
   "cell_type": "code",
   "execution_count": 15,
   "id": "97389116-c6dc-4fc4-bd68-b59e34dff997",
   "metadata": {},
   "outputs": [],
   "source": [
    "numeros_ao_quadrado_comprehension = [numero ** 2 for numero in numeros]"
   ]
  },
  {
   "cell_type": "code",
   "execution_count": 17,
   "id": "ea60f57a-c669-48f9-ab6f-2cb28c9806f5",
   "metadata": {},
   "outputs": [
    {
     "data": {
      "text/plain": [
       "[1, 4, 9, 16, 25, 36]"
      ]
     },
     "execution_count": 17,
     "metadata": {},
     "output_type": "execute_result"
    }
   ],
   "source": [
    "numeros_ao_quadrado_comprehension"
   ]
  }
 ],
 "metadata": {
  "kernelspec": {
   "display_name": "Python 3 (ipykernel)",
   "language": "python",
   "name": "python3"
  },
  "language_info": {
   "codemirror_mode": {
    "name": "ipython",
    "version": 3
   },
   "file_extension": ".py",
   "mimetype": "text/x-python",
   "name": "python",
   "nbconvert_exporter": "python",
   "pygments_lexer": "ipython3",
   "version": "3.11.6"
  }
 },
 "nbformat": 4,
 "nbformat_minor": 5
}
