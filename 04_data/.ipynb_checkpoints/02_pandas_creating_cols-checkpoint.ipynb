{
 "cells": [
  {
   "cell_type": "code",
   "execution_count": 1,
   "id": "cd0ab3d2-54c3-4ace-8318-b89630774834",
   "metadata": {},
   "outputs": [],
   "source": [
    "import pandas as pd"
   ]
  },
  {
   "cell_type": "code",
   "execution_count": 3,
   "id": "1346f5d8-3f3d-4bd4-8e4b-dedad650b07e",
   "metadata": {},
   "outputs": [],
   "source": [
    "#Realizando a leitura do nosso dataframe\n",
    "df = pd.read_csv('./data/users.csv')"
   ]
  },
  {
   "cell_type": "code",
   "execution_count": 4,
   "id": "9a42add9-b084-4041-a463-ce1dbf768984",
   "metadata": {},
   "outputs": [
    {
     "data": {
      "text/html": [
       "<div>\n",
       "<style scoped>\n",
       "    .dataframe tbody tr th:only-of-type {\n",
       "        vertical-align: middle;\n",
       "    }\n",
       "\n",
       "    .dataframe tbody tr th {\n",
       "        vertical-align: top;\n",
       "    }\n",
       "\n",
       "    .dataframe thead th {\n",
       "        text-align: right;\n",
       "    }\n",
       "</style>\n",
       "<table border=\"1\" class=\"dataframe\">\n",
       "  <thead>\n",
       "    <tr style=\"text-align: right;\">\n",
       "      <th></th>\n",
       "      <th>id</th>\n",
       "      <th>firstname</th>\n",
       "      <th>lastname</th>\n",
       "      <th>email</th>\n",
       "      <th>email2</th>\n",
       "      <th>profession</th>\n",
       "      <th>age</th>\n",
       "    </tr>\n",
       "  </thead>\n",
       "  <tbody>\n",
       "    <tr>\n",
       "      <th>0</th>\n",
       "      <td>100</td>\n",
       "      <td>Glenda</td>\n",
       "      <td>Pyle</td>\n",
       "      <td>Glenda.Pyle@yopmail.com</td>\n",
       "      <td>Glenda.Pyle@gmail.com</td>\n",
       "      <td>firefighter</td>\n",
       "      <td>25.0</td>\n",
       "    </tr>\n",
       "    <tr>\n",
       "      <th>1</th>\n",
       "      <td>101</td>\n",
       "      <td>Hollie</td>\n",
       "      <td>Allys</td>\n",
       "      <td>Hollie.Allys@yopmail.com</td>\n",
       "      <td>Hollie.Allys@gmail.com</td>\n",
       "      <td>worker</td>\n",
       "      <td>26.0</td>\n",
       "    </tr>\n",
       "    <tr>\n",
       "      <th>2</th>\n",
       "      <td>102</td>\n",
       "      <td>Grier</td>\n",
       "      <td>Henrie</td>\n",
       "      <td>Grier.Henrie@yopmail.com</td>\n",
       "      <td>Grier.Henrie@gmail.com</td>\n",
       "      <td>doctor</td>\n",
       "      <td>23.0</td>\n",
       "    </tr>\n",
       "    <tr>\n",
       "      <th>3</th>\n",
       "      <td>103</td>\n",
       "      <td>Kittie</td>\n",
       "      <td>Strephon</td>\n",
       "      <td>Kittie.Strephon@yopmail.com</td>\n",
       "      <td>Kittie.Strephon@gmail.com</td>\n",
       "      <td>worker</td>\n",
       "      <td>45.0</td>\n",
       "    </tr>\n",
       "    <tr>\n",
       "      <th>4</th>\n",
       "      <td>104</td>\n",
       "      <td>Kassey</td>\n",
       "      <td>Prober</td>\n",
       "      <td>Kassey.Prober@yopmail.com</td>\n",
       "      <td>Kassey.Prober@gmail.com</td>\n",
       "      <td>worker</td>\n",
       "      <td>45.0</td>\n",
       "    </tr>\n",
       "  </tbody>\n",
       "</table>\n",
       "</div>"
      ],
      "text/plain": [
       "    id firstname  lastname                        email  \\\n",
       "0  100    Glenda      Pyle      Glenda.Pyle@yopmail.com   \n",
       "1  101    Hollie     Allys     Hollie.Allys@yopmail.com   \n",
       "2  102     Grier    Henrie     Grier.Henrie@yopmail.com   \n",
       "3  103    Kittie  Strephon  Kittie.Strephon@yopmail.com   \n",
       "4  104    Kassey    Prober    Kassey.Prober@yopmail.com   \n",
       "\n",
       "                      email2   profession   age  \n",
       "0      Glenda.Pyle@gmail.com  firefighter  25.0  \n",
       "1     Hollie.Allys@gmail.com       worker  26.0  \n",
       "2     Grier.Henrie@gmail.com       doctor  23.0  \n",
       "3  Kittie.Strephon@gmail.com       worker  45.0  \n",
       "4    Kassey.Prober@gmail.com       worker  45.0  "
      ]
     },
     "execution_count": 4,
     "metadata": {},
     "output_type": "execute_result"
    }
   ],
   "source": [
    "df.head()"
   ]
  },
  {
   "cell_type": "code",
   "execution_count": null,
   "id": "e6e65f7c-391b-4625-8f86-c08ac78c2321",
   "metadata": {},
   "outputs": [],
   "source": []
  },
  {
   "cell_type": "code",
   "execution_count": null,
   "id": "2f0e43f2-2765-457e-978a-7be09b87935c",
   "metadata": {},
   "outputs": [],
   "source": []
  },
  {
   "cell_type": "code",
   "execution_count": null,
   "id": "b17ec73c-e6ce-4450-b629-5a761ed1b1f3",
   "metadata": {},
   "outputs": [],
   "source": []
  },
  {
   "cell_type": "code",
   "execution_count": null,
   "id": "9c65ce13-87c6-419a-9b31-0a5db828c751",
   "metadata": {},
   "outputs": [],
   "source": []
  },
  {
   "cell_type": "code",
   "execution_count": null,
   "id": "09c55bc8-5a0d-4076-ab68-0634fc65f9a8",
   "metadata": {},
   "outputs": [],
   "source": []
  },
  {
   "cell_type": "code",
   "execution_count": null,
   "id": "936641bd-73d3-4a4f-90d5-3c386afbd02e",
   "metadata": {},
   "outputs": [],
   "source": []
  },
  {
   "cell_type": "code",
   "execution_count": null,
   "id": "eb0aefd4-f52f-4c0b-b11a-b91e2ea443cb",
   "metadata": {},
   "outputs": [],
   "source": []
  },
  {
   "cell_type": "code",
   "execution_count": null,
   "id": "3133cff4-25bd-494f-9903-a2c3f4a28963",
   "metadata": {},
   "outputs": [],
   "source": []
  },
  {
   "cell_type": "code",
   "execution_count": null,
   "id": "ccf47e43-efa3-468d-8cdb-dd90dc8e3ed0",
   "metadata": {},
   "outputs": [],
   "source": []
  },
  {
   "cell_type": "code",
   "execution_count": null,
   "id": "bc6db475-437c-4b29-951f-6067358d4846",
   "metadata": {},
   "outputs": [],
   "source": []
  }
 ],
 "metadata": {
  "kernelspec": {
   "display_name": "Python 3 (ipykernel)",
   "language": "python",
   "name": "python3"
  },
  "language_info": {
   "codemirror_mode": {
    "name": "ipython",
    "version": 3
   },
   "file_extension": ".py",
   "mimetype": "text/x-python",
   "name": "python",
   "nbconvert_exporter": "python",
   "pygments_lexer": "ipython3",
   "version": "3.11.6"
  }
 },
 "nbformat": 4,
 "nbformat_minor": 5
}
