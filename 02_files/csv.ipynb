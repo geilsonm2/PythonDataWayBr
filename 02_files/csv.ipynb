{
 "cells": [
  {
   "cell_type": "code",
   "execution_count": 1,
   "id": "90ac818a-8d48-43ad-9028-9af8cc5eadb5",
   "metadata": {},
   "outputs": [],
   "source": [
    "# Para leitura de arquivo CSV\n",
    "import csv"
   ]
  },
  {
   "cell_type": "code",
   "execution_count": 3,
   "id": "57937eef-45fd-4b5f-a3a2-2b7537c4eac2",
   "metadata": {
    "collapsed": true,
    "jupyter": {
     "outputs_hidden": true
    }
   },
   "outputs": [
    {
     "name": "stdout",
     "output_type": "stream",
     "text": [
      "Valor: {'id': '100', 'firstname': 'Glenda', 'lastname': 'Pyle', 'email': 'Glenda.Pyle@yopmail.com', 'email2': 'Glenda.Pyle@gmail.com', 'profession': 'firefighter'}\n",
      "Valor: {'id': '101', 'firstname': 'Hollie', 'lastname': 'Allys', 'email': 'Hollie.Allys@yopmail.com', 'email2': 'Hollie.Allys@gmail.com', 'profession': 'worker'}\n",
      "Valor: {'id': '102', 'firstname': 'Grier', 'lastname': 'Henrie', 'email': 'Grier.Henrie@yopmail.com', 'email2': 'Grier.Henrie@gmail.com', 'profession': 'doctor'}\n",
      "Valor: {'id': '103', 'firstname': 'Kittie', 'lastname': 'Strephon', 'email': 'Kittie.Strephon@yopmail.com', 'email2': 'Kittie.Strephon@gmail.com', 'profession': 'worker'}\n",
      "Valor: {'id': '104', 'firstname': 'Kassey', 'lastname': 'Prober', 'email': 'Kassey.Prober@yopmail.com', 'email2': 'Kassey.Prober@gmail.com', 'profession': 'worker'}\n",
      "Valor: {'id': '105', 'firstname': 'Lusa', 'lastname': 'Kolnick', 'email': 'Lusa.Kolnick@yopmail.com', 'email2': 'Lusa.Kolnick@gmail.com', 'profession': 'firefighter'}\n",
      "Valor: {'id': '106', 'firstname': 'Fredericka', 'lastname': 'Florina', 'email': 'Fredericka.Florina@yopmail.com', 'email2': 'Fredericka.Florina@gmail.com', 'profession': 'firefighter'}\n",
      "Valor: {'id': '107', 'firstname': 'Constance', 'lastname': 'Georgy', 'email': 'Constance.Georgy@yopmail.com', 'email2': 'Constance.Georgy@gmail.com', 'profession': 'doctor'}\n",
      "Valor: {'id': '108', 'firstname': 'Averyl', 'lastname': 'Concha', 'email': 'Averyl.Concha@yopmail.com', 'email2': 'Averyl.Concha@gmail.com', 'profession': 'police officer'}\n",
      "Valor: {'id': '109', 'firstname': 'Lily', 'lastname': 'Uird', 'email': 'Lily.Uird@yopmail.com', 'email2': 'Lily.Uird@gmail.com', 'profession': 'firefighter'}\n",
      "Valor: {'id': '110', 'firstname': 'Malina', 'lastname': 'Huggins', 'email': 'Malina.Huggins@yopmail.com', 'email2': 'Malina.Huggins@gmail.com', 'profession': 'worker'}\n",
      "Valor: {'id': '111', 'firstname': 'Dorthy', 'lastname': 'Nisbet', 'email': 'Dorthy.Nisbet@yopmail.com', 'email2': 'Dorthy.Nisbet@gmail.com', 'profession': 'doctor'}\n",
      "Valor: {'id': '112', 'firstname': 'Tiffie', 'lastname': 'Joachim', 'email': 'Tiffie.Joachim@yopmail.com', 'email2': 'Tiffie.Joachim@gmail.com', 'profession': 'doctor'}\n",
      "Valor: {'id': '113', 'firstname': 'Agathe', 'lastname': 'Adrienne', 'email': 'Agathe.Adrienne@yopmail.com', 'email2': 'Agathe.Adrienne@gmail.com', 'profession': 'developer'}\n"
     ]
    }
   ],
   "source": [
    "#Realizando a leitura do arquivo CSV com with open e logo depois criando um for incremetando linha por linha do arquivo e imprimindo ela no final.\n",
    "#Valor: {'id': '100', 'firstname': 'Glenda', 'lastname': 'Pyle', 'email': 'Glenda.Pyle@yopmail.com', 'email2': 'Glenda.Pyle@gmail.com', 'profession': 'firefighter'}\n",
    "#É criado um dicionário {}\n",
    "# 'r' de read\n",
    "with open('./dados_csv/file_1.csv', 'r' ) as arquivo_csv:\n",
    "    dados = csv.DictReader(arquivo_csv, delimiter = ',')\n",
    "    for linha in dados:\n",
    "        print(f\"Valor: {linha}\")"
   ]
  },
  {
   "cell_type": "code",
   "execution_count": 6,
   "id": "373eae4d-c06d-4ac3-81b7-5b849784103b",
   "metadata": {},
   "outputs": [],
   "source": [
    "# Salvando/Criando um arquivo csv\n",
    "#Criando uma variável, com uma lista e dentro da lista temos o nome das colunas e valores de cada coluna.\n",
    "dados_paises = [\n",
    "    ['name', 'area', 'country_code2', 'contry_code3'],\n",
    "    ['Albania', 28748, 'AL', 'ALB'],\n",
    "    ['Algeria', 2381741, 'DZ', 'DZA']\n",
    "]"
   ]
  },
  {
   "cell_type": "code",
   "execution_count": 7,
   "id": "05ad4de9-6aff-4974-b1a6-15c4a2275eeb",
   "metadata": {},
   "outputs": [],
   "source": [
    "#Gravando o arquivo dentro de uma pasta\n",
    "# w de write com o encoding para identificar o idioma corretamente\n",
    "# writer com o arquivo dentro para gravar um novo arquivo.csv\n",
    "# Por fim, passa o writer.writerows com os dados acima, e criando o arquivo.csv com os dados da variavel dados_paises\n",
    "with open('./dados_csv/file_2.csv', 'w', encoding = 'UTF8') as arquivo_csv:\n",
    "    writer = csv.writer(arquivo_csv)\n",
    "\n",
    "    writer.writerows(dados_paises)"
   ]
  },
  {
   "cell_type": "code",
   "execution_count": null,
   "id": "b03e0dcf-8416-44d3-a533-c61cc3c190b5",
   "metadata": {},
   "outputs": [],
   "source": []
  },
  {
   "cell_type": "code",
   "execution_count": null,
   "id": "637a63aa-4407-4847-a383-c99c7e30a6fc",
   "metadata": {},
   "outputs": [],
   "source": []
  },
  {
   "cell_type": "code",
   "execution_count": null,
   "id": "ec476388-cd32-4059-bab3-523a44bc2c2b",
   "metadata": {},
   "outputs": [],
   "source": []
  }
 ],
 "metadata": {
  "kernelspec": {
   "display_name": "Python 3 (ipykernel)",
   "language": "python",
   "name": "python3"
  },
  "language_info": {
   "codemirror_mode": {
    "name": "ipython",
    "version": 3
   },
   "file_extension": ".py",
   "mimetype": "text/x-python",
   "name": "python",
   "nbconvert_exporter": "python",
   "pygments_lexer": "ipython3",
   "version": "3.11.6"
  }
 },
 "nbformat": 4,
 "nbformat_minor": 5
}
