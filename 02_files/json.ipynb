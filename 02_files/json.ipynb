{
 "cells": [
  {
   "cell_type": "code",
   "execution_count": 3,
   "id": "54e8f5f3-8431-4a35-bfe8-301855420205",
   "metadata": {},
   "outputs": [],
   "source": [
    "#JavaScript Object Notation - Lembra um dict\n",
    "import json"
   ]
  },
  {
   "cell_type": "code",
   "execution_count": 4,
   "id": "d1c07cc0-2e81-4fab-abb9-a84dde4a99c1",
   "metadata": {},
   "outputs": [],
   "source": [
    "with open('./dados_json/file_1.json') as arquivo_json1:\n",
    "    dados = json.load(arquivo_json1)"
   ]
  },
  {
   "cell_type": "code",
   "execution_count": 5,
   "id": "241a100a-00d9-4c17-8419-d55dc2edbfa6",
   "metadata": {},
   "outputs": [
    {
     "data": {
      "text/plain": [
       "dict"
      ]
     },
     "execution_count": 5,
     "metadata": {},
     "output_type": "execute_result"
    }
   ],
   "source": [
    "type(dados)"
   ]
  },
  {
   "cell_type": "code",
   "execution_count": 6,
   "id": "4953a4bf-43e9-4ed6-b15e-cfd9bd116e47",
   "metadata": {},
   "outputs": [
    {
     "data": {
      "text/plain": [
       "{'season': 2023,\n",
       " 'current': 'yes',\n",
       " 'pilots': [{'name': 'Lewis Hamilton',\n",
       "   'team': 'Mercedes',\n",
       "   'nationality': 'British'},\n",
       "  {'name': 'Max Verstappen',\n",
       "   'team': 'Red Bull Racing',\n",
       "   'nationality': 'Dutch'},\n",
       "  {'name': 'Charles Leclerc', 'team': 'Ferrari', 'nationality': 'Monégasque'}]}"
      ]
     },
     "execution_count": 6,
     "metadata": {},
     "output_type": "execute_result"
    }
   ],
   "source": [
    "dados"
   ]
  },
  {
   "cell_type": "code",
   "execution_count": 7,
   "id": "f440ac0f-41df-472d-8374-695549ac4bd7",
   "metadata": {},
   "outputs": [],
   "source": [
    "#Criando uma season\n",
    "temporada = dados.get('season')"
   ]
  },
  {
   "cell_type": "code",
   "execution_count": 8,
   "id": "c39f1e7e-8e58-42fe-a27f-0c96ff36a1f8",
   "metadata": {},
   "outputs": [
    {
     "data": {
      "text/plain": [
       "2023"
      ]
     },
     "execution_count": 8,
     "metadata": {},
     "output_type": "execute_result"
    }
   ],
   "source": [
    "temporada"
   ]
  },
  {
   "cell_type": "code",
   "execution_count": 9,
   "id": "04080c3e-896d-444d-92ef-e02821d92a9b",
   "metadata": {},
   "outputs": [],
   "source": [
    "pilotos = dados.get('pilots')"
   ]
  },
  {
   "cell_type": "code",
   "execution_count": 12,
   "id": "7e8511c4-1ed5-4cac-b0d5-b2643671e447",
   "metadata": {},
   "outputs": [
    {
     "data": {
      "text/plain": [
       "[{'name': 'Lewis Hamilton', 'team': 'Mercedes', 'nationality': 'British'},\n",
       " {'name': 'Max Verstappen', 'team': 'Red Bull Racing', 'nationality': 'Dutch'},\n",
       " {'name': 'Charles Leclerc', 'team': 'Ferrari', 'nationality': 'Monégasque'}]"
      ]
     },
     "execution_count": 12,
     "metadata": {},
     "output_type": "execute_result"
    }
   ],
   "source": [
    "#Uma lista onde cada um é um dicionario\n",
    "pilotos"
   ]
  },
  {
   "cell_type": "code",
   "execution_count": 14,
   "id": "2d02f234-f744-4b57-a3da-2f07bd567afd",
   "metadata": {},
   "outputs": [],
   "source": [
    "#Realizando a gravacao do arquivo json\n",
    "novo_piloto = {\n",
    "    'name': 'Geilson Maciel',\n",
    "    'team': 'Loud',\n",
    "    'nationality': 'Brazilian'\n",
    "}"
   ]
  },
  {
   "cell_type": "code",
   "execution_count": 19,
   "id": "e7c9d877-fbc9-469f-9d12-0dd329d271de",
   "metadata": {},
   "outputs": [],
   "source": [
    "with open('./dados_json/novo_piloto.json', 'w', encoding= 'UTF8') as arquivo_json2:\n",
    "    json.dump(novo_piloto, arquivo_json2)"
   ]
  }
 ],
 "metadata": {
  "kernelspec": {
   "display_name": "Python 3 (ipykernel)",
   "language": "python",
   "name": "python3"
  },
  "language_info": {
   "codemirror_mode": {
    "name": "ipython",
    "version": 3
   },
   "file_extension": ".py",
   "mimetype": "text/x-python",
   "name": "python",
   "nbconvert_exporter": "python",
   "pygments_lexer": "ipython3",
   "version": "3.11.6"
  }
 },
 "nbformat": 4,
 "nbformat_minor": 5
}
