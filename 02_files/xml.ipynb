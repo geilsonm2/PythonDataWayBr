{
 "cells": [
  {
   "cell_type": "code",
   "execution_count": 17,
   "id": "0b24258a-d07e-4252-b58b-da94cee17d10",
   "metadata": {},
   "outputs": [
    {
     "name": "stdout",
     "output_type": "stream",
     "text": [
      "Requirement already satisfied: dicttoxml in /opt/conda/lib/python3.11/site-packages (1.7.16)\n"
     ]
    }
   ],
   "source": [
    "# !pip install dicttoxml\n",
    "import xml.etree.ElementTree as ET\n",
    "import dicttoxml as dxml"
   ]
  },
  {
   "cell_type": "code",
   "execution_count": 5,
   "id": "aea0b2ba-c5fa-44b9-a4f7-a06ed3c47fee",
   "metadata": {},
   "outputs": [],
   "source": [
    "# Acessando o arquivo, utilizando o parse para interpretação do arquivo.\n",
    "arvore = ET.parse('./dados_xml/file_1.xml')"
   ]
  },
  {
   "cell_type": "code",
   "execution_count": 6,
   "id": "192928a9-d6c1-4d36-8640-622b6c58f6ce",
   "metadata": {},
   "outputs": [],
   "source": [
    "#Utilizando o metodo getroot, acessando nossa raiz \n",
    "raiz = arvore.getroot()"
   ]
  },
  {
   "cell_type": "code",
   "execution_count": 7,
   "id": "15e66f3f-2198-4390-8a4e-c810c3b4c1e2",
   "metadata": {},
   "outputs": [
    {
     "data": {
      "text/plain": [
       "<Element 'data' at 0x7fc300382ca0>"
      ]
     },
     "execution_count": 7,
     "metadata": {},
     "output_type": "execute_result"
    }
   ],
   "source": [
    "raiz"
   ]
  },
  {
   "cell_type": "code",
   "execution_count": 13,
   "id": "84aeb98f-7b28-4669-842d-a89369c618f1",
   "metadata": {},
   "outputs": [
    {
     "name": "stdout",
     "output_type": "stream",
     "text": [
      "{'name': 'item1'}\n",
      "item1abc\n",
      "{'name': 'item2'}\n",
      "item2abc\n"
     ]
    }
   ],
   "source": [
    "# Iterando sobre cada elemento na raiz\n",
    "# E depois iterando sobre cada subelemento dentro de elemento, utilizando o metodo findall(), extraindo as info passando uma tag especifica (item).  \n",
    "for elemento in raiz:\n",
    "    for sub_elemento in elemento.findall('item'):\n",
    "        print(sub_elemento.attrib) #Imprimindo o atribudo (name e item1/2)\n",
    "        print(sub_elemento.text) # Imprimindo o texto passado ('item1abc' e 'item2abc')"
   ]
  },
  {
   "cell_type": "code",
   "execution_count": 16,
   "id": "de658a29-aeee-476c-b79b-9afd88f7582b",
   "metadata": {},
   "outputs": [],
   "source": [
    "#Realizando a gravacao do arquivo xml, realizando a instalacao da bibilioteca com !pip install dicttoxml\n",
    "#Utilizando dicttoxml para converter um arquivo dict to xml \n",
    "novo_piloto = {\n",
    "    'name': 'Geilson Maciel',\n",
    "    'team': 'Loud',\n",
    "    'nationality': 'Brazilian'\n",
    "}"
   ]
  },
  {
   "cell_type": "code",
   "execution_count": 18,
   "id": "613fc98e-3b38-429d-8041-c082b2724a54",
   "metadata": {},
   "outputs": [],
   "source": [
    "xml = dxml.dicttoxml(novo_piloto)"
   ]
  },
  {
   "cell_type": "code",
   "execution_count": 21,
   "id": "eb9d2478-8702-44dc-aebd-aceb90e45e0a",
   "metadata": {},
   "outputs": [],
   "source": [
    "# Alias chamado de f para file\n",
    "with open('./dados_xml/novo_piloto.xml', 'w') as f:\n",
    "    f.write(str(xml, 'UTF8'))"
   ]
  }
 ],
 "metadata": {
  "kernelspec": {
   "display_name": "Python 3 (ipykernel)",
   "language": "python",
   "name": "python3"
  },
  "language_info": {
   "codemirror_mode": {
    "name": "ipython",
    "version": 3
   },
   "file_extension": ".py",
   "mimetype": "text/x-python",
   "name": "python",
   "nbconvert_exporter": "python",
   "pygments_lexer": "ipython3",
   "version": "3.11.6"
  }
 },
 "nbformat": 4,
 "nbformat_minor": 5
}
