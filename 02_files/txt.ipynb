{
 "cells": [
  {
   "cell_type": "code",
   "execution_count": 3,
   "id": "e31af97a-a686-47cb-9498-57aa01aa3b4a",
   "metadata": {},
   "outputs": [
    {
     "name": "stdout",
     "output_type": "stream",
     "text": [
      "example of txt file\n"
     ]
    }
   ],
   "source": [
    "#Lendo um arquivo txt de uma linha, utilizando 'r' para leitura \n",
    "with open('./dados_txt/file_1.txt', 'r') as arquivo:\n",
    "    conteudo = arquivo.read()\n",
    "    print(conteudo)"
   ]
  },
  {
   "cell_type": "code",
   "execution_count": 8,
   "id": "e98d2de2-43fb-439f-9843-a1d08acc1169",
   "metadata": {},
   "outputs": [
    {
     "name": "stdout",
     "output_type": "stream",
     "text": [
      "python\n",
      "is\n",
      "awesome\n"
     ]
    }
   ],
   "source": [
    "# Lendo arquivo txt com mais de uma linha\n",
    "with open('./dados_txt/file_2.txt', 'r') as arquivo_multilinha:\n",
    "    conteudo_multilinha = arquivo_multilinha.read().splitlines()\n",
    "    for linha in conteudo_multilinha:\n",
    "        print(linha)"
   ]
  },
  {
   "cell_type": "code",
   "execution_count": 9,
   "id": "4bfd9802-b115-4f2a-9a08-d04e40849bda",
   "metadata": {},
   "outputs": [],
   "source": [
    "# Gravando dados de um arquivo txt\n",
    "with open('./dados_txt/file_3.txt', 'w') as arquivo_3:\n",
    "    arquivo_3.write('Hello World!')"
   ]
  },
  {
   "cell_type": "code",
   "execution_count": null,
   "id": "0c08e8ca-c571-40a7-8fe8-9455e314a1af",
   "metadata": {},
   "outputs": [],
   "source": []
  }
 ],
 "metadata": {
  "kernelspec": {
   "display_name": "Python 3 (ipykernel)",
   "language": "python",
   "name": "python3"
  },
  "language_info": {
   "codemirror_mode": {
    "name": "ipython",
    "version": 3
   },
   "file_extension": ".py",
   "mimetype": "text/x-python",
   "name": "python",
   "nbconvert_exporter": "python",
   "pygments_lexer": "ipython3",
   "version": "3.11.6"
  }
 },
 "nbformat": 4,
 "nbformat_minor": 5
}
