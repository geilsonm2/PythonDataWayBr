{
 "cells": [
  {
   "cell_type": "code",
   "execution_count": 1,
   "id": "e265a8a8-cd34-4c53-82d0-2c0aad234a7e",
   "metadata": {},
   "outputs": [],
   "source": [
    "import requests"
   ]
  },
  {
   "cell_type": "code",
   "execution_count": 2,
   "id": "a8fd1aaa-620c-4a5a-b144-c3cbea8ce29f",
   "metadata": {},
   "outputs": [],
   "source": [
    "#Dados da URL e nosso token disponibilizado pelo GO REST\n",
    "url = \"https://gorest.co.in/public/v2/users\"\n",
    "token = \"61655a663a7da49ec2a33372e3012706d5829070fe52669af7900249dfd09b52\" "
   ]
  },
  {
   "cell_type": "code",
   "execution_count": 3,
   "id": "22f39cb4-5445-4be9-b6eb-20429f3c3699",
   "metadata": {},
   "outputs": [],
   "source": [
    "#Chave no nosso header com nosso token de validacao\n",
    "headers = {\n",
    "    \"Authorization\": f\"Bearer { token }\"\n",
    "}"
   ]
  },
  {
   "cell_type": "code",
   "execution_count": 4,
   "id": "f8ce6202-1ffc-42dc-a684-d7753ed2225b",
   "metadata": {},
   "outputs": [],
   "source": [
    "#Modo como identificamos o usuário\n",
    "geilson_id = '6829088'"
   ]
  },
  {
   "cell_type": "code",
   "execution_count": 5,
   "id": "45317654-47f9-4986-8748-56868e9030ec",
   "metadata": {},
   "outputs": [],
   "source": [
    "# Delete via API\n",
    "dados = {\n",
    "    'id': geilson_id\n",
    "}"
   ]
  },
  {
   "cell_type": "code",
   "execution_count": 6,
   "id": "4b5cee1b-387f-48c1-9da6-0a9ee1ab9aa0",
   "metadata": {},
   "outputs": [
    {
     "data": {
      "text/plain": [
       "{'id': '6829088'}"
      ]
     },
     "execution_count": 6,
     "metadata": {},
     "output_type": "execute_result"
    }
   ],
   "source": [
    "dados"
   ]
  },
  {
   "cell_type": "code",
   "execution_count": 8,
   "id": "c6297ee3-597b-421e-9be4-7edca86c8623",
   "metadata": {},
   "outputs": [],
   "source": [
    "url_completa = f'{url}/{geilson_id}'"
   ]
  },
  {
   "cell_type": "code",
   "execution_count": 9,
   "id": "4de830e9-9b8d-41f1-96b5-076f7d952300",
   "metadata": {},
   "outputs": [
    {
     "data": {
      "text/plain": [
       "'https://gorest.co.in/public/v2/users/6829088'"
      ]
     },
     "execution_count": 9,
     "metadata": {},
     "output_type": "execute_result"
    }
   ],
   "source": [
    "url_completa"
   ]
  },
  {
   "cell_type": "code",
   "execution_count": 12,
   "id": "3739800d-c0b6-452c-98a6-4d2e4439ede7",
   "metadata": {},
   "outputs": [],
   "source": [
    "usuario_removido = requests.delete(url_completa,headers=headers, data=dados)"
   ]
  },
  {
   "cell_type": "code",
   "execution_count": 13,
   "id": "46423feb-6fd3-42aa-b55c-96cff54164c0",
   "metadata": {},
   "outputs": [
    {
     "data": {
      "text/plain": [
       "204"
      ]
     },
     "execution_count": 13,
     "metadata": {},
     "output_type": "execute_result"
    }
   ],
   "source": [
    "usuario_removido.status_code"
   ]
  },
  {
   "cell_type": "code",
   "execution_count": 15,
   "id": "224c135c-8996-4845-aeae-b3b3f4d060d2",
   "metadata": {},
   "outputs": [],
   "source": [
    "status_usuario = requests.get(url_completa, headers=headers)"
   ]
  },
  {
   "cell_type": "code",
   "execution_count": 16,
   "id": "e496652b-1689-4ed6-8f45-8d0f8936f12d",
   "metadata": {},
   "outputs": [
    {
     "data": {
      "text/plain": [
       "{'message': 'Resource not found'}"
      ]
     },
     "execution_count": 16,
     "metadata": {},
     "output_type": "execute_result"
    }
   ],
   "source": [
    "#Dicionario\n",
    "status_usuario.json()"
   ]
  }
 ],
 "metadata": {
  "kernelspec": {
   "display_name": "Python 3 (ipykernel)",
   "language": "python",
   "name": "python3"
  },
  "language_info": {
   "codemirror_mode": {
    "name": "ipython",
    "version": 3
   },
   "file_extension": ".py",
   "mimetype": "text/x-python",
   "name": "python",
   "nbconvert_exporter": "python",
   "pygments_lexer": "ipython3",
   "version": "3.11.6"
  }
 },
 "nbformat": 4,
 "nbformat_minor": 5
}
