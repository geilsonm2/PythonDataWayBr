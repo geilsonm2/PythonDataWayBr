{
 "cells": [
  {
   "cell_type": "code",
   "execution_count": 5,
   "id": "525c8192-a2ef-44b4-8bb9-42e830b9689a",
   "metadata": {},
   "outputs": [],
   "source": [
    "import requests"
   ]
  },
  {
   "cell_type": "code",
   "execution_count": 6,
   "id": "d11953d5-f4b3-498a-b376-2115cf0575d1",
   "metadata": {},
   "outputs": [],
   "source": [
    "#Dados da URL e nosso token disponibilizado pelo GO REST\n",
    "url = \"https://gorest.co.in/public/v2/users\"\n",
    "token = \"61655a663a7da49ec2a33372e3012706d5829070fe52669af7900249dfd09b52\" "
   ]
  },
  {
   "cell_type": "code",
   "execution_count": 7,
   "id": "3bca2f40-0e70-4c10-ad68-4b35bc00bcd3",
   "metadata": {},
   "outputs": [],
   "source": [
    "#Chave no nosso header com nosso token de validacao\n",
    "headers = {\n",
    "    \"Authorization\": f\"Bearer { token }\"\n",
    "}"
   ]
  },
  {
   "cell_type": "code",
   "execution_count": 9,
   "id": "9fe8ab70-37ac-4a28-a493-f1945915d771",
   "metadata": {},
   "outputs": [],
   "source": [
    "#Modo como identificamos o usuário\n",
    "geilson_id = '6829088'"
   ]
  },
  {
   "cell_type": "markdown",
   "id": "a9dd2a84-e537-4738-9826-5c8d213a63cf",
   "metadata": {},
   "source": [
    "### GET"
   ]
  },
  {
   "cell_type": "code",
   "execution_count": 32,
   "id": "631c7b46-1d6e-413e-a923-6ddca8fccc07",
   "metadata": {},
   "outputs": [],
   "source": [
    "#Boas práticas para solicitar a requisicao de um usuario especifico\n",
    "url_geilson = f\"{url}/{geilson_id}\""
   ]
  },
  {
   "cell_type": "code",
   "execution_count": 39,
   "id": "d5bc5f7d-6aa3-475e-9773-370c1f99d5b5",
   "metadata": {},
   "outputs": [
    {
     "data": {
      "text/plain": [
       "'https://gorest.co.in/public/v2/users/6829088'"
      ]
     },
     "execution_count": 39,
     "metadata": {},
     "output_type": "execute_result"
    }
   ],
   "source": [
    "url_geilson"
   ]
  },
  {
   "cell_type": "code",
   "execution_count": 40,
   "id": "400d12fe-10d8-467f-81f0-9abe0b41f098",
   "metadata": {},
   "outputs": [],
   "source": [
    "#Buscando detalhes do usuário verificando se ele esta ativo\n",
    "#Se eu fizer apenas um get ele retorna uma lista de usuarios\n",
    "#Se eu quiser de um usuario especifico https://gorest.co.in/public/v2/users/6829088\n",
    "status_usuario = requests.get(url_geilson, headers=headers)"
   ]
  },
  {
   "cell_type": "code",
   "execution_count": 41,
   "id": "9f0da424-9b2d-4eb7-9d7e-0472073ea875",
   "metadata": {},
   "outputs": [
    {
     "data": {
      "text/plain": [
       "{'id': 6829088,\n",
       " 'name': 'geilson',\n",
       " 'email': 'geilson@co.in',\n",
       " 'gender': 'male',\n",
       " 'status': 'inactive'}"
      ]
     },
     "execution_count": 41,
     "metadata": {},
     "output_type": "execute_result"
    }
   ],
   "source": [
    "#Dicionario\n",
    "status_usuario.json()"
   ]
  },
  {
   "cell_type": "code",
   "execution_count": 36,
   "id": "4dba6232-9e18-4036-98d0-4872b75da90b",
   "metadata": {},
   "outputs": [],
   "source": [
    "resposta_json = status_usuario.json()"
   ]
  },
  {
   "cell_type": "code",
   "execution_count": 37,
   "id": "4a259173-48ac-45ca-9a20-2c8aa215747b",
   "metadata": {},
   "outputs": [
    {
     "data": {
      "text/plain": [
       "'active'"
      ]
     },
     "execution_count": 37,
     "metadata": {},
     "output_type": "execute_result"
    }
   ],
   "source": [
    "resposta_json.get('status')"
   ]
  },
  {
   "cell_type": "markdown",
   "id": "a75b3b18-53f1-451e-8a9a-63408cb18a31",
   "metadata": {},
   "source": [
    "### Update"
   ]
  },
  {
   "cell_type": "code",
   "execution_count": 29,
   "id": "9aeb384d-9b97-4a63-b4a3-881fbeb0fe93",
   "metadata": {},
   "outputs": [],
   "source": [
    "#Alterando status de ativo para inativo\n",
    "dados = {\n",
    "    'id': geilson_id,\n",
    "    'status':'inactive'\n",
    "}"
   ]
  },
  {
   "cell_type": "code",
   "execution_count": 30,
   "id": "91812ad2-9bf8-46e0-a507-88107b456b31",
   "metadata": {},
   "outputs": [
    {
     "data": {
      "text/plain": [
       "'https://gorest.co.in/public/v2/users/6829088'"
      ]
     },
     "execution_count": 30,
     "metadata": {},
     "output_type": "execute_result"
    }
   ],
   "source": [
    "url_geilson"
   ]
  },
  {
   "cell_type": "code",
   "execution_count": 47,
   "id": "59955504-8f5e-4cf9-b680-edcbb8d49f92",
   "metadata": {},
   "outputs": [],
   "source": [
    "#realizando uma requisicao para alteracao do valor patch = correção\n",
    "response = requests.patch(url_geilson,headers=headers, data=dados)"
   ]
  },
  {
   "cell_type": "code",
   "execution_count": 48,
   "id": "8aad68d8-1adb-43bc-bffc-394fe99d0ea0",
   "metadata": {},
   "outputs": [
    {
     "data": {
      "text/plain": [
       "<Response [200]>"
      ]
     },
     "execution_count": 48,
     "metadata": {},
     "output_type": "execute_result"
    }
   ],
   "source": [
    "response"
   ]
  },
  {
   "cell_type": "code",
   "execution_count": null,
   "id": "c27dbf0e-4fa9-4c22-837b-420740f799a2",
   "metadata": {},
   "outputs": [],
   "source": []
  }
 ],
 "metadata": {
  "kernelspec": {
   "display_name": "Python 3 (ipykernel)",
   "language": "python",
   "name": "python3"
  },
  "language_info": {
   "codemirror_mode": {
    "name": "ipython",
    "version": 3
   },
   "file_extension": ".py",
   "mimetype": "text/x-python",
   "name": "python",
   "nbconvert_exporter": "python",
   "pygments_lexer": "ipython3",
   "version": "3.11.6"
  }
 },
 "nbformat": 4,
 "nbformat_minor": 5
}
