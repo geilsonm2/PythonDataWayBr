{
 "cells": [
  {
   "cell_type": "code",
   "execution_count": 1,
   "id": "e265a8a8-cd34-4c53-82d0-2c0aad234a7e",
   "metadata": {},
   "outputs": [],
   "source": [
    "import requests"
   ]
  },
  {
   "cell_type": "code",
   "execution_count": 2,
   "id": "a8fd1aaa-620c-4a5a-b144-c3cbea8ce29f",
   "metadata": {},
   "outputs": [],
   "source": [
    "#Dados da URL e nosso token disponibilizado pelo GO REST\n",
    "url = \"https://gorest.co.in/public/v2/users\"\n",
    "token = \"61655a663a7da49ec2a33372e3012706d5829070fe52669af7900249dfd09b52\" "
   ]
  },
  {
   "cell_type": "code",
   "execution_count": 3,
   "id": "22f39cb4-5445-4be9-b6eb-20429f3c3699",
   "metadata": {},
   "outputs": [],
   "source": [
    "#Chave no nosso header com nosso token de validacao\n",
    "headers = {\n",
    "    \"Authorization\": f\"Bearer { token }\"\n",
    "}"
   ]
  }
 ],
 "metadata": {
  "kernelspec": {
   "display_name": "Python 3 (ipykernel)",
   "language": "python",
   "name": "python3"
  },
  "language_info": {
   "codemirror_mode": {
    "name": "ipython",
    "version": 3
   },
   "file_extension": ".py",
   "mimetype": "text/x-python",
   "name": "python",
   "nbconvert_exporter": "python",
   "pygments_lexer": "ipython3",
   "version": "3.11.6"
  }
 },
 "nbformat": 4,
 "nbformat_minor": 5
}
