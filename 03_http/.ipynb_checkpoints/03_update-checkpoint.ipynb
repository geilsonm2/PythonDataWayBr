{
 "cells": [
  {
   "cell_type": "code",
   "execution_count": 5,
   "id": "525c8192-a2ef-44b4-8bb9-42e830b9689a",
   "metadata": {},
   "outputs": [],
   "source": [
    "import requests"
   ]
  },
  {
   "cell_type": "code",
   "execution_count": 6,
   "id": "d11953d5-f4b3-498a-b376-2115cf0575d1",
   "metadata": {},
   "outputs": [],
   "source": [
    "#Dados da URL e nosso token disponibilizado pelo GO REST\n",
    "url = \"https://gorest.co.in/public/v2/users\"\n",
    "token = \"61655a663a7da49ec2a33372e3012706d5829070fe52669af7900249dfd09b52\" "
   ]
  },
  {
   "cell_type": "code",
   "execution_count": 7,
   "id": "3bca2f40-0e70-4c10-ad68-4b35bc00bcd3",
   "metadata": {},
   "outputs": [],
   "source": [
    "#Chave no nosso header com nosso token de validacao\n",
    "headers = {\n",
    "    \"Authorization\": f\"Bearer { token }\"\n",
    "}"
   ]
  },
  {
   "cell_type": "code",
   "execution_count": null,
   "id": "9fe8ab70-37ac-4a28-a493-f1945915d771",
   "metadata": {},
   "outputs": [],
   "source": []
  },
  {
   "cell_type": "code",
   "execution_count": null,
   "id": "400d12fe-10d8-467f-81f0-9abe0b41f098",
   "metadata": {},
   "outputs": [],
   "source": []
  },
  {
   "cell_type": "code",
   "execution_count": null,
   "id": "47487a4d-c574-4195-935b-f4279cf3ca98",
   "metadata": {},
   "outputs": [],
   "source": []
  },
  {
   "cell_type": "code",
   "execution_count": null,
   "id": "91812ad2-9bf8-46e0-a507-88107b456b31",
   "metadata": {},
   "outputs": [],
   "source": []
  },
  {
   "cell_type": "code",
   "execution_count": null,
   "id": "59955504-8f5e-4cf9-b680-edcbb8d49f92",
   "metadata": {},
   "outputs": [],
   "source": []
  },
  {
   "cell_type": "code",
   "execution_count": null,
   "id": "8aad68d8-1adb-43bc-bffc-394fe99d0ea0",
   "metadata": {},
   "outputs": [],
   "source": []
  },
  {
   "cell_type": "code",
   "execution_count": null,
   "id": "c27dbf0e-4fa9-4c22-837b-420740f799a2",
   "metadata": {},
   "outputs": [],
   "source": []
  }
 ],
 "metadata": {
  "kernelspec": {
   "display_name": "Python 3 (ipykernel)",
   "language": "python",
   "name": "python3"
  },
  "language_info": {
   "codemirror_mode": {
    "name": "ipython",
    "version": 3
   },
   "file_extension": ".py",
   "mimetype": "text/x-python",
   "name": "python",
   "nbconvert_exporter": "python",
   "pygments_lexer": "ipython3",
   "version": "3.11.6"
  }
 },
 "nbformat": 4,
 "nbformat_minor": 5
}
