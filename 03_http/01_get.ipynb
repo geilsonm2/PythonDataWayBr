{
 "cells": [
  {
   "cell_type": "code",
   "execution_count": 3,
   "id": "99d33496-464c-49d5-9d2e-993b3141d3eb",
   "metadata": {},
   "outputs": [
    {
     "name": "stdout",
     "output_type": "stream",
     "text": [
      "Requirement already satisfied: requests in /opt/conda/lib/python3.11/site-packages (2.31.0)\n",
      "Requirement already satisfied: charset-normalizer<4,>=2 in /opt/conda/lib/python3.11/site-packages (from requests) (3.3.0)\n",
      "Requirement already satisfied: idna<4,>=2.5 in /opt/conda/lib/python3.11/site-packages (from requests) (3.4)\n",
      "Requirement already satisfied: urllib3<3,>=1.21.1 in /opt/conda/lib/python3.11/site-packages (from requests) (2.0.7)\n",
      "Requirement already satisfied: certifi>=2017.4.17 in /opt/conda/lib/python3.11/site-packages (from requests) (2023.7.22)\n"
     ]
    }
   ],
   "source": [
    "!pip install requests\n",
    "import requests"
   ]
  },
  {
   "cell_type": "code",
   "execution_count": 34,
   "id": "68303e12-a2ab-4b56-bf0e-137f78c1dcb9",
   "metadata": {},
   "outputs": [],
   "source": [
    "url = \"https://gorest.co.in/public/v2/users\""
   ]
  },
  {
   "cell_type": "code",
   "execution_count": 35,
   "id": "06a1b6d0-e117-4b8d-9b4c-03b27a3c5ac0",
   "metadata": {},
   "outputs": [],
   "source": [
    "# Realizando um get\n",
    "resposta = requests.get(url)"
   ]
  },
  {
   "cell_type": "code",
   "execution_count": 36,
   "id": "6b26909d-d6c2-4d00-887e-7871a14d31cc",
   "metadata": {},
   "outputs": [
    {
     "data": {
      "text/plain": [
       "<Response [200]>"
      ]
     },
     "execution_count": 36,
     "metadata": {},
     "output_type": "execute_result"
    }
   ],
   "source": [
    "# Verificando o status da nossa requisição, no caso 200 - OK. Tudo funcionou como esperado.\n",
    "resposta"
   ]
  },
  {
   "cell_type": "code",
   "execution_count": 37,
   "id": "be2449ee-dd23-412c-ac55-64460af8eb3e",
   "metadata": {},
   "outputs": [
    {
     "data": {
      "text/plain": [
       "200"
      ]
     },
     "execution_count": 37,
     "metadata": {},
     "output_type": "execute_result"
    }
   ],
   "source": [
    "resposta.status_code"
   ]
  },
  {
   "cell_type": "code",
   "execution_count": 38,
   "id": "ebfb53a3-47df-4f02-9982-8be57877ab6a",
   "metadata": {},
   "outputs": [],
   "source": [
    "status_resposta = resposta.status_code"
   ]
  },
  {
   "cell_type": "code",
   "execution_count": 39,
   "id": "bd88c09b-05f4-4683-9e22-1c2561254530",
   "metadata": {},
   "outputs": [
    {
     "name": "stdout",
     "output_type": "stream",
     "text": [
      "[{'id': 6823500, 'name': 'Girindra Pothuvaal', 'email': 'pothuvaal_girindra@abbott-marquardt.example', 'gender': 'female', 'status': 'active'}, {'id': 6823499, 'name': 'Miss Sujata Sinha', 'email': 'sujata_miss_sinha@beier.test', 'gender': 'female', 'status': 'inactive'}, {'id': 6823496, 'name': 'Narendra Mehra', 'email': 'mehra_narendra@mohr-schaefer.example', 'gender': 'female', 'status': 'active'}, {'id': 6823495, 'name': 'Tej Pothuvaal IV', 'email': 'pothuvaal_tej_iv@satterfield.test', 'gender': 'male', 'status': 'inactive'}, {'id': 6823494, 'name': 'Brijesh Nayar', 'email': 'nayar_brijesh@mccullough-ankunding.example', 'gender': 'female', 'status': 'active'}, {'id': 6823493, 'name': 'Javas Kaniyar', 'email': 'javas_kaniyar@abbott.example', 'gender': 'male', 'status': 'active'}, {'id': 6823492, 'name': 'Darshwana Kapoor', 'email': 'kapoor_darshwana@becker.test', 'gender': 'male', 'status': 'active'}, {'id': 6823491, 'name': 'The Hon. Girija Bhat', 'email': 'hon_bhat_girija_the@satterfield-kilback.example', 'gender': 'male', 'status': 'active'}, {'id': 6823490, 'name': 'Manik Tagore', 'email': 'manik_tagore@reichert-beahan.example', 'gender': 'male', 'status': 'inactive'}, {'id': 6823489, 'name': 'Aadi Rana I', 'email': 'rana_i_aadi@purdy-rippin.example', 'gender': 'female', 'status': 'inactive'}]\n"
     ]
    }
   ],
   "source": [
    "if status_resposta == 200:\n",
    "    usuarios = resposta.json()\n",
    "    print(usuarios)\n",
    "else: \n",
    "    print(f'Algo de errado aconteceu:{status_resposta}')"
   ]
  },
  {
   "cell_type": "code",
   "execution_count": 20,
   "id": "615339b0-fb2b-42e2-a5a5-dc95d9050e27",
   "metadata": {},
   "outputs": [],
   "source": [
    "# Como acessamos os dados?\n",
    "dados = resposta.json()"
   ]
  },
  {
   "cell_type": "code",
   "execution_count": 22,
   "id": "91ab9bdb-d896-497a-b2a3-05173ade00f8",
   "metadata": {
    "scrolled": true
   },
   "outputs": [
    {
     "data": {
      "text/plain": [
       "[{'id': 6823500,\n",
       "  'name': 'Girindra Pothuvaal',\n",
       "  'email': 'pothuvaal_girindra@abbott-marquardt.example',\n",
       "  'gender': 'female',\n",
       "  'status': 'active'},\n",
       " {'id': 6823499,\n",
       "  'name': 'Miss Sujata Sinha',\n",
       "  'email': 'sujata_miss_sinha@beier.test',\n",
       "  'gender': 'female',\n",
       "  'status': 'inactive'},\n",
       " {'id': 6823496,\n",
       "  'name': 'Narendra Mehra',\n",
       "  'email': 'mehra_narendra@mohr-schaefer.example',\n",
       "  'gender': 'female',\n",
       "  'status': 'active'},\n",
       " {'id': 6823495,\n",
       "  'name': 'Tej Pothuvaal IV',\n",
       "  'email': 'pothuvaal_tej_iv@satterfield.test',\n",
       "  'gender': 'male',\n",
       "  'status': 'inactive'},\n",
       " {'id': 6823494,\n",
       "  'name': 'Brijesh Nayar',\n",
       "  'email': 'nayar_brijesh@mccullough-ankunding.example',\n",
       "  'gender': 'female',\n",
       "  'status': 'active'},\n",
       " {'id': 6823493,\n",
       "  'name': 'Javas Kaniyar',\n",
       "  'email': 'javas_kaniyar@abbott.example',\n",
       "  'gender': 'male',\n",
       "  'status': 'active'},\n",
       " {'id': 6823492,\n",
       "  'name': 'Darshwana Kapoor',\n",
       "  'email': 'kapoor_darshwana@becker.test',\n",
       "  'gender': 'male',\n",
       "  'status': 'active'},\n",
       " {'id': 6823491,\n",
       "  'name': 'The Hon. Girija Bhat',\n",
       "  'email': 'hon_bhat_girija_the@satterfield-kilback.example',\n",
       "  'gender': 'male',\n",
       "  'status': 'active'},\n",
       " {'id': 6823490,\n",
       "  'name': 'Manik Tagore',\n",
       "  'email': 'manik_tagore@reichert-beahan.example',\n",
       "  'gender': 'male',\n",
       "  'status': 'inactive'},\n",
       " {'id': 6823489,\n",
       "  'name': 'Aadi Rana I',\n",
       "  'email': 'rana_i_aadi@purdy-rippin.example',\n",
       "  'gender': 'female',\n",
       "  'status': 'inactive'}]"
      ]
     },
     "execution_count": 22,
     "metadata": {},
     "output_type": "execute_result"
    }
   ],
   "source": [
    "#Os dados contém ids, onde podemos interagir com os dados atraves dele\n",
    "dados"
   ]
  },
  {
   "cell_type": "code",
   "execution_count": 23,
   "id": "f54083c2-8b56-4a51-9c3a-e2241ce32180",
   "metadata": {},
   "outputs": [
    {
     "data": {
      "text/plain": [
       "<Response [200]>"
      ]
     },
     "execution_count": 23,
     "metadata": {},
     "output_type": "execute_result"
    }
   ],
   "source": [
    "# Toda requisicao tem um header, que é basicamente um cabeçalho. \n",
    "# É um dict que vamos passar algumas info e dependendo do que for feito sera necessário informar nosso token no cabeçalho\n",
    "resposta"
   ]
  },
  {
   "cell_type": "code",
   "execution_count": null,
   "id": "536798fc-4ee9-4cad-bccc-5fdcc390c98a",
   "metadata": {},
   "outputs": [],
   "source": []
  },
  {
   "cell_type": "code",
   "execution_count": null,
   "id": "e9295f49-b3c6-4b4c-bb6d-061cf50292e8",
   "metadata": {},
   "outputs": [],
   "source": []
  },
  {
   "cell_type": "code",
   "execution_count": null,
   "id": "0f40b8f3-2b92-4dff-8649-9035d9b6a4d9",
   "metadata": {},
   "outputs": [],
   "source": []
  },
  {
   "cell_type": "code",
   "execution_count": null,
   "id": "56739c35-d82b-4038-b08d-b3206ca2e68f",
   "metadata": {},
   "outputs": [],
   "source": []
  }
 ],
 "metadata": {
  "kernelspec": {
   "display_name": "Python 3 (ipykernel)",
   "language": "python",
   "name": "python3"
  },
  "language_info": {
   "codemirror_mode": {
    "name": "ipython",
    "version": 3
   },
   "file_extension": ".py",
   "mimetype": "text/x-python",
   "name": "python",
   "nbconvert_exporter": "python",
   "pygments_lexer": "ipython3",
   "version": "3.11.6"
  }
 },
 "nbformat": 4,
 "nbformat_minor": 5
}
